{
  "nbformat": 4,
  "nbformat_minor": 0,
  "metadata": {
    "colab": {
      "provenance": []
    },
    "kernelspec": {
      "name": "python3",
      "display_name": "Python 3"
    },
    "language_info": {
      "name": "python"
    }
  },
  "cells": [
    {
      "cell_type": "markdown",
      "source": [
        "NUMPY:\n",
        "\n",
        "NumPy is a fundamental library in Python used for scientific computations and numerical operations.\n",
        "It allows us to perform mathematical and logical operations easily.\n",
        "It is highly useful as it works compatibly with most Python libraries.\n",
        "\n",
        "Some of its usage areas include:\n",
        "\n",
        "Data analysis: It is used to perform fast mathematical operations on large datasets.\n",
        "\n",
        "Machine learning: It is used for preparing datasets.\n",
        "\n",
        "Scientific computing: It is used to perform statistical analysis and modeling.\n",
        "\n",
        "NumPy arrays are faster and use less memory compared to Python lists.\n",
        "They offer rich functions for mathematical operations, make working with multi-dimensional arrays easier, and are optimized for scientific computations.\n",
        "\n",
        "Below are some features of NumPy in Python:\n",
        "\n"
      ],
      "metadata": {
        "id": "7SD1Swk7_c7I"
      }
    },
    {
      "cell_type": "code",
      "execution_count": 1,
      "metadata": {
        "colab": {
          "base_uri": "https://localhost:8080/"
        },
        "id": "rOeiuQBR_G0R",
        "outputId": "adc4ae02-b81b-4575-9d2c-dfdba134a09e"
      },
      "outputs": [
        {
          "output_type": "stream",
          "name": "stdout",
          "text": [
            "Step 1: Creating a NumPy Array:\n",
            "Created Array: [1 2 3 4 5]\n",
            "\n",
            "Step 2: Displaying Array Properties:\n",
            "Array Shape: (5,)\n",
            "Number of Dimensions (ndim): 1\n",
            "Number of Elements (size): 5\n",
            "Data Type (dtype): int64\n",
            "\n",
            "Step 3: Modifying the Array:\n",
            "Modified Array: [ 1  2 99  4  5]\n",
            "Reshaped Array:\n",
            " [[ 1  2 99  4  5]]\n",
            "Appended Array: [ 1  2 99  4  5  6  7  8]\n",
            "\n",
            "Step 4: Mathematical Operations:\n",
            "Array Multiplied by 2: [  2   4 198   8  10]\n",
            "Square Root of Array: [1.         1.41421356 9.94987437 2.         2.23606798]\n",
            "Mean of Array: 22.2\n",
            "Maximum Value of Array: 99\n",
            "Minimum Value of Array: 1\n",
            "\n",
            "Step 5: Filtering and Conditional Operations:\n",
            "Elements Greater Than 3: [99  4  5]\n",
            "\n",
            "Step 6: Creating an Array with Random Numbers:\n",
            "Random Array: [0.68508868 0.33131795 0.84394523 0.88402022 0.7645979 ]\n",
            "\n",
            "Step 7: Linear Algebra Operations:\n",
            "Matrix Multiplication Result:\n",
            " [[19 22]\n",
            " [43 50]]\n",
            "\n",
            "Step 8: Broadcasting:\n",
            "Broadcasting Example:\n",
            " [[11 22 33]\n",
            " [14 25 36]]\n",
            "\n",
            "Step 9: Saving and Loading an Array:\n",
            "Array Loaded from File: [ 1  2 99  4  5]\n"
          ]
        }
      ],
      "source": [
        "import numpy as np\n",
        "\n",
        "# Step 1: Creating a NumPy Array\n",
        "print(\"Step 1: Creating a NumPy Array:\")\n",
        "arr = np.array([1, 2, 3, 4, 5])\n",
        "print(\"Created Array:\", arr)\n",
        "\n",
        "# Step 2: Displaying Array Properties\n",
        "print(\"\\nStep 2: Displaying Array Properties:\")\n",
        "print(\"Array Shape:\", arr.shape)\n",
        "print(\"Number of Dimensions (ndim):\", arr.ndim)\n",
        "print(\"Number of Elements (size):\", arr.size)\n",
        "print(\"Data Type (dtype):\", arr.dtype)\n",
        "\n",
        "# Step 3: Modifying the Array\n",
        "print(\"\\nStep 3: Modifying the Array:\")\n",
        "\n",
        "# a) Modifying Elements\n",
        "arr[2] = 99\n",
        "print(\"Modified Array:\", arr)\n",
        "\n",
        "# b) Reshaping the Array\n",
        "reshaped_arr = arr.reshape(1, 5)  # 1 row, 5 columns\n",
        "print(\"Reshaped Array:\\n\", reshaped_arr)\n",
        "\n",
        "# c) Appending to the Array\n",
        "new_arr = np.append(arr, [6, 7, 8])\n",
        "print(\"Appended Array:\", new_arr)\n",
        "\n",
        "# Step 4: Mathematical Operations\n",
        "print(\"\\nStep 4: Mathematical Operations:\")\n",
        "\n",
        "# a) Basic Mathematical Operations\n",
        "print(\"Array Multiplied by 2:\", arr * 2)\n",
        "print(\"Square Root of Array:\", np.sqrt(arr))\n",
        "\n",
        "# b) Statistical Operations\n",
        "print(\"Mean of Array:\", np.mean(arr))\n",
        "print(\"Maximum Value of Array:\", np.max(arr))\n",
        "print(\"Minimum Value of Array:\", np.min(arr))\n",
        "\n",
        "# Step 5: Filtering and Conditional Operations\n",
        "print(\"\\nStep 5: Filtering and Conditional Operations:\")\n",
        "filtered_arr = arr[arr > 3]\n",
        "print(\"Elements Greater Than 3:\", filtered_arr)\n",
        "\n",
        "# Step 6: Creating an Array with Random Numbers\n",
        "print(\"\\nStep 6: Creating an Array with Random Numbers:\")\n",
        "random_arr = np.random.rand(5)  # 5 random numbers between 0 and 1\n",
        "print(\"Random Array:\", random_arr)\n",
        "\n",
        "# Step 7: Linear Algebra Operations\n",
        "print(\"\\nStep 7: Linear Algebra Operations:\")\n",
        "matrix_a = np.array([[1, 2], [3, 4]])\n",
        "matrix_b = np.array([[5, 6], [7, 8]])\n",
        "matrix_product = np.dot(matrix_a, matrix_b)\n",
        "print(\"Matrix Multiplication Result:\\n\", matrix_product)\n",
        "\n",
        "# Step 8: Broadcasting => A mechanism that allows operations on arrays of different shapes\n",
        "print(\"\\nStep 8: Broadcasting:\")\n",
        "matrix = np.array([[1, 2, 3], [4, 5, 6]])\n",
        "vector = np.array([10, 20, 30])\n",
        "broadcasted_result = matrix + vector\n",
        "print(\"Broadcasting Example:\\n\", broadcasted_result)\n",
        "\n",
        "# Step 9: Saving and Loading an Array to/from a File\n",
        "print(\"\\nStep 9: Saving and Loading an Array:\")\n",
        "np.save('saved_array.npy', arr)  # Save array to a file\n",
        "loaded_arr = np.load('saved_array.npy')  # Load array from the file\n",
        "print(\"Array Loaded from File:\", loaded_arr)\n"
      ]
    },
    {
      "cell_type": "markdown",
      "source": [
        "PANDAS:\n",
        "\n",
        "Pandas is a data analysis library developed for Python.\n",
        "It is a useful library that allows us to perform necessary read/write operations and other tasks on given or created DataFrames.\n",
        "\n",
        "Some usage areas include:\n",
        "\n",
        "1.Cleaning missing or incorrect data, such as removing values that are non-functional or not included in calculations\n",
        "\n",
        "2.Analyzing data to extract meaningful insights\n",
        "\n",
        "3.Preparing datasets for data preprocessing and model training\n",
        "\n"
      ],
      "metadata": {
        "id": "p8TlYCZYKf-0"
      }
    },
    {
      "cell_type": "code",
      "source": [
        "import pandas as pd\n",
        "import numpy as np\n",
        "\n",
        "# 1. Creating a DataFrame\n",
        "# Create a DataFrame with random data\n",
        "dates = pd.date_range('20230101', periods=6)\n",
        "df = pd.DataFrame(np.random.randn(6, 4), index=dates, columns=list('ABCD'))\n",
        "\n",
        "print(\"Created DataFrame:\")\n",
        "print(df)\n",
        "\n",
        "# 2. Quick Look at the Data\n",
        "print(\"\\nFirst 2 Rows of the DataFrame:\")\n",
        "print(df.head(2))\n",
        "\n",
        "print(\"\\nLast 2 Rows of the DataFrame:\")\n",
        "print(df.tail(2))\n",
        "\n",
        "print(\"\\nIndex Information of the DataFrame:\")\n",
        "print(df.index)\n",
        "\n",
        "print(\"\\nColumn Information of the DataFrame:\")\n",
        "print(df.columns)\n",
        "\n",
        "# 3. Selecting and Filtering Data\n",
        "print(\"\\nValues in Column 'A':\")\n",
        "print(df['A'])\n",
        "\n",
        "print(\"\\nColumns 'B' and 'C' from the First 3 Rows:\")\n",
        "print(df.loc[:, ['B', 'C']].head(3))\n",
        "\n",
        "print(\"\\nRow with Index '2023-01-03':\")\n",
        "print(df.loc['20230103'])\n",
        "\n",
        "# 4. Conditional Filtering\n",
        "print(\"\\nRows Where Column 'A' > 0:\")\n",
        "print(df[df['A'] > 0])\n",
        "\n",
        "# 5. Handling Missing Data\n",
        "# Let's add some missing data\n",
        "df1 = df.reindex(index=dates[0:4], columns=list(df.columns) + ['E'])\n",
        "df1.loc[dates[0]:dates[1], 'E'] = 1\n",
        "\n",
        "print(\"\\nDataFrame with Missing Values:\")\n",
        "print(df1)\n",
        "\n",
        "print(\"\\nFilling Missing Values (with 0):\")\n",
        "print(df1.fillna(value=0))\n",
        "\n",
        "# 6. Statistical Analysis\n",
        "print(\"\\nBasic Statistics of the DataFrame:\")\n",
        "print(df.describe())\n",
        "\n",
        "# 7. Sorting Data\n",
        "print(\"\\nDataFrame Sorted by Column 'A':\")\n",
        "print(df.sort_values(by='A'))\n",
        "\n",
        "# 8. Grouping and Aggregation\n",
        "# Add a new column and perform grouping\n",
        "df['F'] = ['Male', 'Female', 'Male', 'Female', 'Male', 'Female']\n",
        "print(\"\\nGrouped by Column 'F' with Mean Values:\")\n",
        "print(df.groupby('F').mean())\n"
      ],
      "metadata": {
        "colab": {
          "base_uri": "https://localhost:8080/"
        },
        "id": "yaRmb4G0MoNR",
        "outputId": "78f16162-364f-4f89-a449-2db55fc09c47"
      },
      "execution_count": 2,
      "outputs": [
        {
          "output_type": "stream",
          "name": "stdout",
          "text": [
            "Created DataFrame:\n",
            "                   A         B         C         D\n",
            "2023-01-01  0.535225 -0.919608 -0.011856  0.528946\n",
            "2023-01-02  1.392424  0.526836 -0.239413  1.551674\n",
            "2023-01-03 -1.094045 -0.176918  0.310752  1.172921\n",
            "2023-01-04  0.120398  0.483115 -0.213930 -0.078439\n",
            "2023-01-05  2.062518  1.470303  0.105395 -2.686313\n",
            "2023-01-06 -0.354289  0.130376 -1.988214  0.083264\n",
            "\n",
            "First 2 Rows of the DataFrame:\n",
            "                   A         B         C         D\n",
            "2023-01-01  0.535225 -0.919608 -0.011856  0.528946\n",
            "2023-01-02  1.392424  0.526836 -0.239413  1.551674\n",
            "\n",
            "Last 2 Rows of the DataFrame:\n",
            "                   A         B         C         D\n",
            "2023-01-05  2.062518  1.470303  0.105395 -2.686313\n",
            "2023-01-06 -0.354289  0.130376 -1.988214  0.083264\n",
            "\n",
            "Index Information of the DataFrame:\n",
            "DatetimeIndex(['2023-01-01', '2023-01-02', '2023-01-03', '2023-01-04',\n",
            "               '2023-01-05', '2023-01-06'],\n",
            "              dtype='datetime64[ns]', freq='D')\n",
            "\n",
            "Column Information of the DataFrame:\n",
            "Index(['A', 'B', 'C', 'D'], dtype='object')\n",
            "\n",
            "Values in Column 'A':\n",
            "2023-01-01    0.535225\n",
            "2023-01-02    1.392424\n",
            "2023-01-03   -1.094045\n",
            "2023-01-04    0.120398\n",
            "2023-01-05    2.062518\n",
            "2023-01-06   -0.354289\n",
            "Freq: D, Name: A, dtype: float64\n",
            "\n",
            "Columns 'B' and 'C' from the First 3 Rows:\n",
            "                   B         C\n",
            "2023-01-01 -0.919608 -0.011856\n",
            "2023-01-02  0.526836 -0.239413\n",
            "2023-01-03 -0.176918  0.310752\n",
            "\n",
            "Row with Index '2023-01-03':\n",
            "A   -1.094045\n",
            "B   -0.176918\n",
            "C    0.310752\n",
            "D    1.172921\n",
            "Name: 2023-01-03 00:00:00, dtype: float64\n",
            "\n",
            "Rows Where Column 'A' > 0:\n",
            "                   A         B         C         D\n",
            "2023-01-01  0.535225 -0.919608 -0.011856  0.528946\n",
            "2023-01-02  1.392424  0.526836 -0.239413  1.551674\n",
            "2023-01-04  0.120398  0.483115 -0.213930 -0.078439\n",
            "2023-01-05  2.062518  1.470303  0.105395 -2.686313\n",
            "\n",
            "DataFrame with Missing Values:\n",
            "                   A         B         C         D    E\n",
            "2023-01-01  0.535225 -0.919608 -0.011856  0.528946  1.0\n",
            "2023-01-02  1.392424  0.526836 -0.239413  1.551674  1.0\n",
            "2023-01-03 -1.094045 -0.176918  0.310752  1.172921  NaN\n",
            "2023-01-04  0.120398  0.483115 -0.213930 -0.078439  NaN\n",
            "\n",
            "Filling Missing Values (with 0):\n",
            "                   A         B         C         D    E\n",
            "2023-01-01  0.535225 -0.919608 -0.011856  0.528946  1.0\n",
            "2023-01-02  1.392424  0.526836 -0.239413  1.551674  1.0\n",
            "2023-01-03 -1.094045 -0.176918  0.310752  1.172921  0.0\n",
            "2023-01-04  0.120398  0.483115 -0.213930 -0.078439  0.0\n",
            "\n",
            "Basic Statistics of the DataFrame:\n",
            "              A         B         C         D\n",
            "count  6.000000  6.000000  6.000000  6.000000\n",
            "mean   0.443705  0.252351 -0.339544  0.095342\n",
            "std    1.151954  0.798078  0.833325  1.499203\n",
            "min   -1.094045 -0.919608 -1.988214 -2.686313\n",
            "25%   -0.235617 -0.100095 -0.233042 -0.038013\n",
            "50%    0.327812  0.306745 -0.112893  0.306105\n",
            "75%    1.178124  0.515906  0.076082  1.011927\n",
            "max    2.062518  1.470303  0.310752  1.551674\n",
            "\n",
            "DataFrame Sorted by Column 'A':\n",
            "                   A         B         C         D\n",
            "2023-01-03 -1.094045 -0.176918  0.310752  1.172921\n",
            "2023-01-06 -0.354289  0.130376 -1.988214  0.083264\n",
            "2023-01-04  0.120398  0.483115 -0.213930 -0.078439\n",
            "2023-01-01  0.535225 -0.919608 -0.011856  0.528946\n",
            "2023-01-02  1.392424  0.526836 -0.239413  1.551674\n",
            "2023-01-05  2.062518  1.470303  0.105395 -2.686313\n",
            "\n",
            "Grouped by Column 'F' with Mean Values:\n",
            "               A         B         C         D\n",
            "F                                             \n",
            "Female  0.386178  0.380109 -0.813852  0.518833\n",
            "Male    0.501233  0.124592  0.134764 -0.328149\n"
          ]
        }
      ]
    },
    {
      "cell_type": "markdown",
      "source": [
        "MATPLOTLIB:\n",
        "\n",
        "Matplotlib is a data visualization library developed for the Python programming language.\n",
        "Although it is generally used for 2D plotting, it can also be used for 3D visualizations.\n",
        "It works in an integrated manner with libraries such as Pandas and NumPy.\n",
        "\n",
        "\n",
        "\n",
        "\n"
      ],
      "metadata": {
        "id": "XuOXg20-N7op"
      }
    },
    {
      "cell_type": "code",
      "source": [
        "# BASIC LINE PLOT\n",
        "\n",
        "import matplotlib.pyplot as plt\n",
        "import numpy as np\n",
        "\n",
        "# Generate data\n",
        "x = np.linspace(0, 10, 100)  # 100 points between 0 and 10\n",
        "y = np.sin(x)  # Sine function\n",
        "\n",
        "# Create the plot\n",
        "plt.plot(x, y)\n",
        "\n",
        "# Customize the plot\n",
        "plt.title(\"Sine Function\")\n",
        "plt.xlabel(\"X Axis\")\n",
        "plt.ylabel(\"Y Axis\")\n",
        "\n",
        "# Display the plot\n",
        "plt.show()\n"
      ],
      "metadata": {
        "colab": {
          "base_uri": "https://localhost:8080/",
          "height": 472
        },
        "id": "lzgqwas3QboA",
        "outputId": "55581b45-c5c8-4a41-9ab7-d8df81ae9f1d"
      },
      "execution_count": 3,
      "outputs": [
        {
          "output_type": "display_data",
          "data": {
            "text/plain": [
              "<Figure size 640x480 with 1 Axes>"
            ],
            "image/png": "[encoded data removed]"
          },
          "metadata": {}
        }
      ]
    },
    {
      "cell_type": "code",
      "source": [
        "# CREATING A BAR CHART\n",
        "\n",
        "import matplotlib.pyplot as plt\n",
        "\n",
        "# Create data\n",
        "categories = ['A', 'B', 'C', 'D']\n",
        "values = [15, 20, 10, 25]\n",
        "\n",
        "# Create the bar chart\n",
        "plt.bar(categories, values)\n",
        "\n",
        "# Customize the chart\n",
        "plt.title(\"Bar Chart\")\n",
        "plt.xlabel(\"Categories\")\n",
        "plt.ylabel(\"Values\")\n",
        "\n",
        "# Display the chart\n",
        "plt.show()\n"
      ],
      "metadata": {
        "colab": {
          "base_uri": "https://localhost:8080/",
          "height": 472
        },
        "id": "iwP10uqLRMnl",
        "outputId": "4902e2de-1e4b-47cb-85ba-8bcd7f98bb55"
      },
      "execution_count": 4,
      "outputs": [
        {
          "output_type": "display_data",
          "data": {
            "text/plain": [
              "<Figure size 640x480 with 1 Axes>"
            ],
            "image/png": "[encoded data removed]"
          },
          "metadata": {}
        }
      ]
    },
    {
      "cell_type": "code",
      "source": [
        "# CREATING A PIE CHART\n",
        "\n",
        "import matplotlib.pyplot as plt\n",
        "\n",
        "# Create data\n",
        "labels = ['A', 'B', 'C', 'D']\n",
        "sizes = [15, 30, 45, 10]\n",
        "\n",
        "# Create the pie chart\n",
        "plt.pie(sizes, labels=labels, autopct='%1.1f%%')\n",
        "\n",
        "# Customize the chart\n",
        "plt.title(\"Pie Chart\")\n",
        "\n",
        "# Display the chart\n",
        "plt.show()\n"
      ],
      "metadata": {
        "colab": {
          "base_uri": "https://localhost:8080/",
          "height": 428
        },
        "id": "KCbFrmK4Rbts",
        "outputId": "dd9ae25a-8ff0-40a5-8d98-b67e6d7bd849"
      },
      "execution_count": 5,
      "outputs": [
        {
          "output_type": "display_data",
          "data": {
            "text/plain": [
              "<Figure size 640x480 with 1 Axes>"
            ],
            "image/png": "[encoded data removed]"
          },
          "metadata": {}
        }
      ]
    },
    {
      "cell_type": "code",
      "source": [
        "import numpy as np\n",
        "import matplotlib.pyplot as plt\n",
        "from scipy.io import wavfile\n",
        "\n",
        "# Load the audio file\n",
        "sample_rate, data = wavfile.read('audio_file.wav')\n",
        "\n",
        "# Create time axis in seconds\n",
        "time = np.arange(0, len(data)) / sample_rate\n",
        "\n",
        "# Plot the audio signal in time domain\n",
        "plt.figure(figsize=(10, 4))\n",
        "plt.plot(time, data, color='blue')\n",
        "plt.title('Audio Signal - Time Domain')\n",
        "plt.xlabel('Time (seconds)')\n",
        "plt.ylabel('Amplitude')\n",
        "plt.grid(True)\n",
        "plt.show()\n"
      ],
      "metadata": {
        "colab": {
          "base_uri": "https://localhost:8080/",
          "height": 445
        },
        "id": "ZBz058jZQMad",
        "outputId": "43c5e7d3-908d-416e-cae8-3f6a60e15f26"
      },
      "execution_count": 7,
      "outputs": [
        {
          "output_type": "stream",
          "name": "stderr",
          "text": [
            "/tmp/ipython-input-2286461947.py:6: WavFileWarning: Chunk (non-data) not understood, skipping it.\n",
            "  sample_rate, data = wavfile.read('audio_file.wav')\n"
          ]
        },
        {
          "output_type": "display_data",
          "data": {
            "text/plain": [
              "<Figure size 1000x400 with 1 Axes>"
            ],
            "image/png": "[encoded data removed]"
          },
          "metadata": {}
        }
      ]
    },
    {
      "cell_type": "markdown",
      "source": [
        "SCIKIT-LEARN:\n",
        "\n",
        "Scikit-learn is a free and open-source machine learning library developed for the Python programming language.\n",
        "It is widely used in data analysis, model training, and machine learning projects.\n",
        "\n",
        "Some usage areas of Scikit-learn include:\n",
        "\n",
        "Classification: Assigning data to specific categories.\n",
        "\n",
        "Regression: Predicting continuous values (examining dependent and independent variables within a mathematical model).\n",
        "\n",
        "Clustering: Grouping similar data points together.\n",
        "\n",
        "Classification is the process of assigning data to predefined categories. For example, if we have several animals defined as cats, when a new animal appears, identifying what it is by comparing its features is an example of classification.\n",
        "\n",
        "K-Nearest Neighbors (KNN) is a simple classification algorithm that predicts the class of a data point by comparing it with its closest neighbors.\n",
        "To make accurate predictions, the selection of the parameter k (the number of neighbors), as well as the method of measuring distance and neighbor selection (e.g., circular or distance-based), is very important.\n",
        "\n",
        "Advantages of KNN:\n",
        "\n",
        "It is a simple algorithm.\n",
        "\n",
        "Since there is no training phase, there is no need for retraining when the dataset changes.\n",
        "\n",
        "It can be used for both classification and regression problems.\n",
        "\n",
        "Disadvantages of KNN:\n",
        "\n",
        "It becomes slow with large datasets due to computational complexity.\n",
        "\n",
        "Data needs to be scaled or standardized.\n",
        "\n",
        "Choosing the k parameter correctly is very important.\n",
        "\n"
      ],
      "metadata": {
        "id": "WpViiXAzU0fd"
      }
    },
    {
      "cell_type": "code",
      "source": [
        "# Required libraries\n",
        "from sklearn.datasets import load_iris\n",
        "from sklearn.model_selection import train_test_split\n",
        "from sklearn.preprocessing import StandardScaler\n",
        "from sklearn.neighbors import KNeighborsClassifier\n",
        "from sklearn.metrics import accuracy_score, classification_report, confusion_matrix\n",
        "\n",
        "# Load the dataset and split into train and test sets\n",
        "# Load the Iris dataset\n",
        "data = load_iris()\n",
        "X = data.data  # Features (flower measurements)\n",
        "y = data.target  # Labels (flower species)\n",
        "\n",
        "# Split data into training and testing sets\n",
        "X_train, X_test, y_train, y_test = train_test_split(X, y, test_size=0.3, random_state=42)\n",
        "\n",
        "# Scale the data\n",
        "# Standardize the data\n",
        "scaler = StandardScaler()\n",
        "X_train = scaler.fit_transform(X_train)\n",
        "X_test = scaler.transform(X_test)\n",
        "\n",
        "# Create the KNN model (k=3)\n",
        "knn = KNeighborsClassifier(n_neighbors=3)\n",
        "# Train the model\n",
        "knn.fit(X_train, y_train)\n",
        "# Predict on the test set\n",
        "y_pred = knn.predict(X_test)\n",
        "\n",
        "# Calculate accuracy\n",
        "accuracy = accuracy_score(y_test, y_pred)\n",
        "print(f\"Model Accuracy: {accuracy * 100:.2f}%\")\n",
        "\n",
        "# Reasons why the model might have 100% accuracy:\n",
        "# - The Iris dataset is small (150 flowers, 3 species)\n",
        "# - KNN algorithm tends to overfit on small datasets\n",
        "# - The k value is well chosen\n",
        "# - Data has been properly scaled\n",
        "# - The Iris dataset is simple and well separated\n"
      ],
      "metadata": {
        "colab": {
          "base_uri": "https://localhost:8080/"
        },
        "id": "Z14D_BmsRlA0",
        "outputId": "70a7fd84-7ecc-4941-a133-932172516993"
      },
      "execution_count": 8,
      "outputs": [
        {
          "output_type": "stream",
          "name": "stdout",
          "text": [
            "Model Accuracy: 100.00%\n"
          ]
        }
      ]
    },
    {
      "cell_type": "markdown",
      "source": [
        "TENSORFLOW:\n",
        "\n",
        "TensorFlow is a library developed by Google used for machine learning and deep learning.\n",
        "\n",
        "The main goal of TensorFlow is to create a computational graph that runs more efficiently than computations performed directly in Python.\n",
        "\n",
        "Because TensorFlow knows the entire graph (unlike NumPy), it can optimize computations and automatically calculate gradients.\n",
        "\n",
        "TensorFlow can run on multi-core CPUs, GPUs, and even Google’s specialized Tensor Processing Units (TPUs).\n",
        "\n",
        "Some areas of application:\n",
        "\n",
        "Deep learning: used to build neural networks.\n",
        "\n",
        "Machine learning: used in tasks like regression and classification.\n",
        "\n",
        "Audio processing: speech recognition, audio classification, etc.\n",
        "\n",
        "TensorFlow is widely used due to its flexibility (suitable for both simple and complex applications), performance (GPU and TPU support), and its ability to integrate with other Python libraries.\n",
        "It can be complex for beginners and may require significant memory.\n",
        "\n",
        "Convolutional Neural Networks (CNNs):\n",
        "CNNs use small filters to detect patterns in images. These filters are reused across the entire image, making CNNs more powerful and faster than fully connected networks with the same number of parameters. CNNs significantly outperform simple linear models in image classification tasks.\n",
        "\n",
        "Data is split into training and testing sets: training is used to teach the model, and testing is used to evaluate its accuracy.\n",
        "\n",
        "Google has also developed TPUs (Tensor Processing Units) specifically for TensorFlow, which enhances its usability and speed.\n",
        "\n",
        "KERAS:\n",
        "\n",
        "Keras is a high-level Python library used for creating, training, and evaluating deep learning models.\n",
        "It runs on top of lower-level libraries like TensorFlow (which serve as its backend).\n",
        "It is used to build neural networks.\n",
        "Keras hides the complexity of TensorFlow, making it an ideal tool for beginners and those who want to prototype quickly. In fact, the two are closely intertwined.\n"
      ],
      "metadata": {
        "id": "JV3Q9UtdVrwd"
      }
    },
    {
      "cell_type": "code",
      "source": [
        "import tensorflow as tf\n",
        "from tensorflow.keras import layers, models\n",
        "from tensorflow.keras.datasets import mnist\n",
        "from tensorflow.keras.utils import to_categorical\n",
        "\n",
        "# Load the dataset\n",
        "(train_images, train_labels), (test_images, test_labels) = mnist.load_data()\n",
        "\n",
        "# Normalize the data (scale pixel values to range 0-1)\n",
        "train_images = train_images.reshape((60000, 28, 28, 1)).astype('float32') / 255\n",
        "test_images = test_images.reshape((10000, 28, 28, 1)).astype('float32') / 255\n",
        "\n",
        "# One-hot encode the labels\n",
        "train_labels = to_categorical(train_labels)\n",
        "test_labels = to_categorical(test_labels)\n",
        "\n",
        "# Build the model\n",
        "model = models.Sequential([\n",
        "    layers.Conv2D(32, (3, 3), activation='relu', input_shape=(28, 28, 1)),\n",
        "    layers.MaxPooling2D((2, 2)),\n",
        "    layers.Conv2D(64, (3, 3), activation='relu'),\n",
        "    layers.MaxPooling2D((2, 2)),\n",
        "    layers.Conv2D(64, (3, 3), activation='relu'),\n",
        "    layers.Flatten(),\n",
        "    layers.Dense(64, activation='relu'),\n",
        "    layers.Dense(10, activation='softmax')  # Softmax for 10 classes\n",
        "])\n",
        "\n",
        "# Compile the model\n",
        "model.compile(optimizer='adam',\n",
        "              loss='categorical_crossentropy',\n",
        "              metrics=['accuracy'])\n",
        "\n",
        "# Train the model\n",
        "model.fit(train_images, train_labels, epochs=5, batch_size=64)\n",
        "\n",
        "# Evaluate the model\n",
        "test_loss, test_acc = model.evaluate(test_images, test_labels)\n",
        "print(f\"Test Accuracy: {test_acc}\")\n"
      ],
      "metadata": {
        "colab": {
          "base_uri": "https://localhost:8080/"
        },
        "id": "NooSWs5rY5EJ",
        "outputId": "75a997ff-b9ad-433d-e0b9-7f1c4283cd58"
      },
      "execution_count": 9,
      "outputs": [
        {
          "output_type": "stream",
          "name": "stdout",
          "text": [
            "Downloading data from https://storage.googleapis.com/tensorflow/tf-keras-datasets/mnist.npz\n",
            "\u001b[1m11490434/11490434\u001b[0m \u001b[32m━━━━━━━━━━━━━━━━━━━━\u001b[0m\u001b[37m\u001b[0m \u001b[1m0s\u001b[0m 0us/step\n"
          ]
        },
        {
          "output_type": "stream",
          "name": "stderr",
          "text": [
            "/usr/local/lib/python3.11/dist-packages/keras/src/layers/convolutional/base_conv.py:107: UserWarning: Do not pass an `input_shape`/`input_dim` argument to a layer. When using Sequential models, prefer using an `Input(shape)` object as the first layer in the model instead.\n",
            "  super().__init__(activity_regularizer=activity_regularizer, **kwargs)\n"
          ]
        },
        {
          "output_type": "stream",
          "name": "stdout",
          "text": [
            "Epoch 1/5\n",
            "\u001b[1m938/938\u001b[0m \u001b[32m━━━━━━━━━━━━━━━━━━━━\u001b[0m\u001b[37m\u001b[0m \u001b[1m33s\u001b[0m 34ms/step - accuracy: 0.8620 - loss: 0.4344\n",
            "Epoch 2/5\n",
            "\u001b[1m938/938\u001b[0m \u001b[32m━━━━━━━━━━━━━━━━━━━━\u001b[0m\u001b[37m\u001b[0m \u001b[1m29s\u001b[0m 31ms/step - accuracy: 0.9832 - loss: 0.0559\n",
            "Epoch 3/5\n",
            "\u001b[1m938/938\u001b[0m \u001b[32m━━━━━━━━━━━━━━━━━━━━\u001b[0m\u001b[37m\u001b[0m \u001b[1m31s\u001b[0m 33ms/step - accuracy: 0.9890 - loss: 0.0357\n",
            "Epoch 4/5\n",
            "\u001b[1m938/938\u001b[0m \u001b[32m━━━━━━━━━━━━━━━━━━━━\u001b[0m\u001b[37m\u001b[0m \u001b[1m31s\u001b[0m 33ms/step - accuracy: 0.9907 - loss: 0.0290\n",
            "Epoch 5/5\n",
            "\u001b[1m938/938\u001b[0m \u001b[32m━━━━━━━━━━━━━━━━━━━━\u001b[0m\u001b[37m\u001b[0m \u001b[1m44s\u001b[0m 36ms/step - accuracy: 0.9928 - loss: 0.0232\n",
            "\u001b[1m313/313\u001b[0m \u001b[32m━━━━━━━━━━━━━━━━━━━━\u001b[0m\u001b[37m\u001b[0m \u001b[1m2s\u001b[0m 6ms/step - accuracy: 0.9863 - loss: 0.0397\n",
            "Test Accuracy: 0.9900000095367432\n"
          ]
        }
      ]
    },
    {
      "cell_type": "code",
      "source": [
        "import tensorflow as tf\n",
        "import numpy as np\n",
        "import matplotlib.pyplot as plt\n",
        "\n",
        "# Training data\n",
        "X_train = np.array([1.0, 2.0, 3.0, 4.0, 5.0], dtype=np.float32).reshape(-1, 1)  # 2D array\n",
        "Y_train = np.array([2.0, 4.0, 6.0, 8.0, 10.0], dtype=np.float32)  # y = 2x\n",
        "\n",
        "# Model parameters (W: weight, b: bias)\n",
        "W = tf.Variable(0.0)  # Initial value\n",
        "b = tf.Variable(0.0)  # Initial value\n",
        "\n",
        "# Linear regression model\n",
        "def linear_regression(X):\n",
        "    return W * X + b\n",
        "\n",
        "# Loss function\n",
        "def mean_square_error(Y_true, Y_pred):\n",
        "    return tf.reduce_mean(tf.square(Y_true - Y_pred))\n",
        "\n",
        "# Learning rate\n",
        "learning_rate = 0.01\n",
        "\n",
        "# Optimization algorithm\n",
        "optimizer = tf.optimizers.SGD(learning_rate)\n",
        "\n",
        "# Number of training steps (epochs)\n",
        "epochs = 100\n",
        "\n",
        "# Training loop\n",
        "for epoch in range(epochs):\n",
        "    with tf.GradientTape() as tape:\n",
        "        # Get model predictions\n",
        "        Y_pred = linear_regression(X_train)\n",
        "\n",
        "        # Calculate loss\n",
        "        loss = mean_square_error(Y_train, Y_pred)\n",
        "\n",
        "    # Calculate gradients\n",
        "    gradients = tape.gradient(loss, [W, b])\n",
        "\n",
        "    # Update parameters\n",
        "    optimizer.apply_gradients(zip(gradients, [W, b]))\n",
        "\n",
        "    # Print loss every 10 epochs\n",
        "    if (epoch + 1) % 10 == 0:\n",
        "        print(f\"Epoch {epoch + 1}, Loss: {loss.numpy()}, W: {W.numpy()}, b: {b.numpy()}\")\n",
        "\n",
        "# Plot training data and model predictions\n",
        "plt.scatter(X_train, Y_train, label=\"Actual Data\")\n",
        "plt.plot(X_train, linear_regression(X_train), color='red', label=\"Model Prediction\")\n",
        "plt.xlabel(\"X\")\n",
        "plt.ylabel(\"Y\")\n",
        "plt.legend()\n",
        "plt.show()\n",
        "\n",
        "# Predict for a new X value\n",
        "X_new = np.array([[6.0]], dtype=np.float32)  # 2D array\n",
        "Y_new = linear_regression(X_new).numpy()\n",
        "print(f\"Predicted Y for X = {X_new[0][0]}: {Y_new[0]}\")\n"
      ],
      "metadata": {
        "colab": {
          "base_uri": "https://localhost:8080/",
          "height": 640
        },
        "id": "CYoAi1rwRhap",
        "outputId": "b74aeb51-7f6a-40af-ce90-ad9e1c0d3be4"
      },
      "execution_count": 10,
      "outputs": [
        {
          "output_type": "stream",
          "name": "stdout",
          "text": [
            "Epoch 10, Loss: 13.553057670593262, W: 1.3883565664291382, b: 0.5843515396118164\n",
            "Epoch 20, Loss: 12.970632553100586, W: 1.4354314804077148, b: 0.7905362248420715\n",
            "Epoch 30, Loss: 12.644113540649414, W: 1.3939027786254883, b: 0.9657474756240845\n",
            "Epoch 40, Loss: 12.33996295928955, W: 1.3479074239730835, b: 1.133504033088684\n",
            "Epoch 50, Loss: 12.055733680725098, W: 1.3030506372451782, b: 1.2955654859542847\n",
            "Epoch 60, Loss: 11.790122032165527, W: 1.259661316871643, b: 1.4522228240966797\n",
            "Epoch 70, Loss: 11.54190444946289, W: 1.2177149057388306, b: 1.6036629676818848\n",
            "Epoch 80, Loss: 11.309942245483398, W: 1.177165150642395, b: 1.7500602006912231\n",
            "Epoch 90, Loss: 11.093170166015625, W: 1.1379656791687012, b: 1.8915823698043823\n",
            "Epoch 100, Loss: 10.89059829711914, W: 1.1000717878341675, b: 2.0283920764923096\n"
          ]
        },
        {
          "output_type": "display_data",
          "data": {
            "text/plain": [
              "<Figure size 640x480 with 1 Axes>"
            ],
            "image/png": "[encoded data removed]"
          },
          "metadata": {}
        },
        {
          "output_type": "stream",
          "name": "stdout",
          "text": [
            "Predicted Y for X = 6.0: [8.628822]\n"
          ]
        }
      ]
    },
    {
      "cell_type": "markdown",
      "source": [
        "HOW CNN WORKS:\n",
        "\n",
        "The input image passes through convolutional layers.\n",
        "\n",
        "The size is reduced using max-pooling.\n",
        "\n",
        "Classification is performed in fully connected layers.\n",
        "\n",
        "The error is calculated, and filter weights are updated through backpropagation.\n",
        "\n",
        "These steps are repeated until the model’s performance is sufficiently good."
      ],
      "metadata": {
        "id": "bTFjTGYi__CM"
      }
    }
  ]
}